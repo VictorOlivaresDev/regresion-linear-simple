{
 "cells": [
  {
   "cell_type": "code",
   "execution_count": null,
   "metadata": {},
   "outputs": [],
   "source": [
    "# Se importan las librerías a utilizar\n",
    "import numpy as np\n",
    "import pandas as pd\n",
    "import matplotlib.pyplot as plt\n",
    "from scipy.optimize import curve_fit"
   ]
  },
  {
   "cell_type": "code",
   "execution_count": null,
   "metadata": {},
   "outputs": [
    {
     "data": {
      "text/html": [
       "<div>\n",
       "<style scoped>\n",
       "    .dataframe tbody tr th:only-of-type {\n",
       "        vertical-align: middle;\n",
       "    }\n",
       "\n",
       "    .dataframe tbody tr th {\n",
       "        vertical-align: top;\n",
       "    }\n",
       "\n",
       "    .dataframe thead th {\n",
       "        text-align: right;\n",
       "    }\n",
       "</style>\n",
       "<table border=\"1\" class=\"dataframe\">\n",
       "  <thead>\n",
       "    <tr style=\"text-align: right;\">\n",
       "      <th></th>\n",
       "      <th>Periodo</th>\n",
       "      <th>GDP</th>\n",
       "    </tr>\n",
       "  </thead>\n",
       "  <tbody>\n",
       "    <tr>\n",
       "      <th>0</th>\n",
       "      <td>1960</td>\n",
       "      <td>1.304000e+10</td>\n",
       "    </tr>\n",
       "    <tr>\n",
       "      <th>1</th>\n",
       "      <td>1961</td>\n",
       "      <td>1.416000e+10</td>\n",
       "    </tr>\n",
       "    <tr>\n",
       "      <th>2</th>\n",
       "      <td>1962</td>\n",
       "      <td>1.520000e+10</td>\n",
       "    </tr>\n",
       "    <tr>\n",
       "      <th>3</th>\n",
       "      <td>1963</td>\n",
       "      <td>1.696000e+10</td>\n",
       "    </tr>\n",
       "    <tr>\n",
       "      <th>4</th>\n",
       "      <td>1964</td>\n",
       "      <td>2.008000e+10</td>\n",
       "    </tr>\n",
       "    <tr>\n",
       "      <th>...</th>\n",
       "      <td>...</td>\n",
       "      <td>...</td>\n",
       "    </tr>\n",
       "    <tr>\n",
       "      <th>57</th>\n",
       "      <td>2017</td>\n",
       "      <td>1.158913e+12</td>\n",
       "    </tr>\n",
       "    <tr>\n",
       "      <th>58</th>\n",
       "      <td>2018</td>\n",
       "      <td>1.222408e+12</td>\n",
       "    </tr>\n",
       "    <tr>\n",
       "      <th>59</th>\n",
       "      <td>2019</td>\n",
       "      <td>1.269404e+12</td>\n",
       "    </tr>\n",
       "    <tr>\n",
       "      <th>60</th>\n",
       "      <td>2020</td>\n",
       "      <td>1.087118e+12</td>\n",
       "    </tr>\n",
       "    <tr>\n",
       "      <th>61</th>\n",
       "      <td>2021</td>\n",
       "      <td>1.293038e+12</td>\n",
       "    </tr>\n",
       "  </tbody>\n",
       "</table>\n",
       "<p>62 rows × 2 columns</p>\n",
       "</div>"
      ],
      "text/plain": [
       "    Periodo           GDP\n",
       "0      1960  1.304000e+10\n",
       "1      1961  1.416000e+10\n",
       "2      1962  1.520000e+10\n",
       "3      1963  1.696000e+10\n",
       "4      1964  2.008000e+10\n",
       "..      ...           ...\n",
       "57     2017  1.158913e+12\n",
       "58     2018  1.222408e+12\n",
       "59     2019  1.269404e+12\n",
       "60     2020  1.087118e+12\n",
       "61     2021  1.293038e+12\n",
       "\n",
       "[62 rows x 2 columns]"
      ]
     },
     "execution_count": 18,
     "metadata": {},
     "output_type": "execute_result"
    }
   ],
   "source": [
    "# Se crea un DataFrame a partir de la base de datos de excel proporcionada\n",
    "df = pd.read_excel(\"Mexico GDP.xlsx\")\n",
    "df"
   ]
  },
  {
   "cell_type": "code",
   "execution_count": null,
   "metadata": {},
   "outputs": [
    {
     "data": {
      "image/png": "[encoded data removed]",
      "text/plain": [
       "<Figure size 640x480 with 1 Axes>"
      ]
     },
     "metadata": {},
     "output_type": "display_data"
    }
   ],
   "source": [
    "# Se almacenan los datos de X y Y en variables como arrays\n",
    "x_data = np.array(df.Periodo)\n",
    "y_data = np.array(df.GDP)\n",
    "\n",
    "#Se crea una gráfica para poder visualizar dichos datos\n",
    "plt.plot(x_data, y_data, 'bo')\n",
    "plt.xlabel('Periodo')\n",
    "plt.ylabel('GDP')\n",
    "plt.show()"
   ]
  },
  {
   "cell_type": "code",
   "execution_count": null,
   "metadata": {},
   "outputs": [
    {
     "data": {
      "text/plain": [
       "array([ True,  True, False,  True,  True,  True,  True,  True, False,\n",
       "        True, False,  True,  True,  True,  True,  True,  True,  True,\n",
       "        True,  True,  True,  True,  True,  True,  True, False,  True,\n",
       "        True,  True,  True,  True,  True,  True,  True,  True, False,\n",
       "        True,  True,  True,  True, False,  True,  True,  True, False,\n",
       "        True,  True,  True,  True,  True, False,  True,  True,  True,\n",
       "        True,  True,  True,  True,  True, False,  True,  True])"
      ]
     },
     "execution_count": 21,
     "metadata": {},
     "output_type": "execute_result"
    }
   ],
   "source": [
    "# Se crea una máscara que va a dividir los datos entre el 80% y 20%\n",
    "msk = np.random.rand(len(df)) <= 0.8"
   ]
  },
  {
   "cell_type": "code",
   "execution_count": null,
   "metadata": {},
   "outputs": [],
   "source": [
    "# Se crean las variables enmascaradas de X y Y tanto para Train como para Test\n",
    "train_x = x_data[msk]\n",
    "train_y = y_data[msk]\n",
    "test_x = x_data[~msk]\n",
    "test_y = y_data[~msk]"
   ]
  },
  {
   "cell_type": "code",
   "execution_count": null,
   "metadata": {},
   "outputs": [],
   "source": [
    "# Se define la función sigmoidal\n",
    "def sigmoid(x, beta_1, beta_2):\n",
    "    y = 1 / (1 + np.exp(beta_1 * (x - beta_2)))\n",
    "    return y"
   ]
  },
  {
   "cell_type": "code",
   "execution_count": null,
   "metadata": {},
   "outputs": [
    {
     "name": "stderr",
     "output_type": "stream",
     "text": [
      "C:\\Users\\crowb\\AppData\\Local\\Temp\\ipykernel_27444\\736875862.py:2: RuntimeWarning: overflow encountered in exp\n",
      "  y = 1 / (1 + np.exp(beta_1 * (x - beta_2)))\n",
      "C:\\Users\\crowb\\AppData\\Local\\Temp\\ipykernel_27444\\632781303.py:1: OptimizeWarning: Covariance of the parameters could not be estimated\n",
      "  popt, pcov = curve_fit(sigmoid, train_x, train_y)\n"
     ]
    }
   ],
   "source": [
    "# Se realiza primer intento para obtener beta_1 y beta_2\n",
    "# Falla el proceso, creo que fue debido a la notación científica\n",
    "popt, pcov = curve_fit(sigmoid, train_x, train_y)"
   ]
  },
  {
   "cell_type": "code",
   "execution_count": null,
   "metadata": {},
   "outputs": [
    {
     "data": {
      "text/html": [
       "<div>\n",
       "<style scoped>\n",
       "    .dataframe tbody tr th:only-of-type {\n",
       "        vertical-align: middle;\n",
       "    }\n",
       "\n",
       "    .dataframe tbody tr th {\n",
       "        vertical-align: top;\n",
       "    }\n",
       "\n",
       "    .dataframe thead th {\n",
       "        text-align: right;\n",
       "    }\n",
       "</style>\n",
       "<table border=\"1\" class=\"dataframe\">\n",
       "  <thead>\n",
       "    <tr style=\"text-align: right;\">\n",
       "      <th></th>\n",
       "      <th>Periodo</th>\n",
       "      <th>GDP</th>\n",
       "    </tr>\n",
       "  </thead>\n",
       "  <tbody>\n",
       "    <tr>\n",
       "      <th>0</th>\n",
       "      <td>0.969817</td>\n",
       "      <td>0.009914</td>\n",
       "    </tr>\n",
       "    <tr>\n",
       "      <th>1</th>\n",
       "      <td>0.970312</td>\n",
       "      <td>0.010765</td>\n",
       "    </tr>\n",
       "    <tr>\n",
       "      <th>2</th>\n",
       "      <td>0.970807</td>\n",
       "      <td>0.011556</td>\n",
       "    </tr>\n",
       "    <tr>\n",
       "      <th>3</th>\n",
       "      <td>0.971301</td>\n",
       "      <td>0.012894</td>\n",
       "    </tr>\n",
       "    <tr>\n",
       "      <th>4</th>\n",
       "      <td>0.971796</td>\n",
       "      <td>0.015266</td>\n",
       "    </tr>\n",
       "    <tr>\n",
       "      <th>...</th>\n",
       "      <td>...</td>\n",
       "      <td>...</td>\n",
       "    </tr>\n",
       "    <tr>\n",
       "      <th>57</th>\n",
       "      <td>0.998021</td>\n",
       "      <td>0.881067</td>\n",
       "    </tr>\n",
       "    <tr>\n",
       "      <th>58</th>\n",
       "      <td>0.998516</td>\n",
       "      <td>0.929340</td>\n",
       "    </tr>\n",
       "    <tr>\n",
       "      <th>59</th>\n",
       "      <td>0.999010</td>\n",
       "      <td>0.965069</td>\n",
       "    </tr>\n",
       "    <tr>\n",
       "      <th>60</th>\n",
       "      <td>0.999505</td>\n",
       "      <td>0.826485</td>\n",
       "    </tr>\n",
       "    <tr>\n",
       "      <th>61</th>\n",
       "      <td>1.000000</td>\n",
       "      <td>0.983036</td>\n",
       "    </tr>\n",
       "  </tbody>\n",
       "</table>\n",
       "<p>62 rows × 2 columns</p>\n",
       "</div>"
      ],
      "text/plain": [
       "     Periodo       GDP\n",
       "0   0.969817  0.009914\n",
       "1   0.970312  0.010765\n",
       "2   0.970807  0.011556\n",
       "3   0.971301  0.012894\n",
       "4   0.971796  0.015266\n",
       "..       ...       ...\n",
       "57  0.998021  0.881067\n",
       "58  0.998516  0.929340\n",
       "59  0.999010  0.965069\n",
       "60  0.999505  0.826485\n",
       "61  1.000000  0.983036\n",
       "\n",
       "[62 rows x 2 columns]"
      ]
     },
     "execution_count": 30,
     "metadata": {},
     "output_type": "execute_result"
    }
   ],
   "source": [
    "# Se normaliza la base de datos\n",
    "# Dividimos cada entrada entre el valor máximo de su columna\n",
    "df_normalized = df / df.max()\n",
    "df_normalized"
   ]
  },
  {
   "cell_type": "code",
   "execution_count": null,
   "metadata": {},
   "outputs": [],
   "source": [
    "# Se almacenan los datos normalizados como arrays en variables diferentes\n",
    "# Se vuelven a definir variables enmascaradas con los datos ya normalizados\n",
    "x_normalized = np.array(df_normalized.Periodo)\n",
    "y_normalized = np.array(df_normalized.GDP)\n",
    "train_x = x_normalized[msk]\n",
    "train_y = y_normalized[msk]\n",
    "test_x = x_normalized[~msk]\n",
    "test_y = y_normalized[~msk]"
   ]
  },
  {
   "cell_type": "code",
   "execution_count": null,
   "metadata": {},
   "outputs": [
    {
     "name": "stdout",
     "output_type": "stream",
     "text": [
      "Beta 1:  -270.9946846568431\n",
      "Beta 2:  0.9892096769727245\n"
     ]
    }
   ],
   "source": [
    "# Segundo intento para obtener beta_0 y beta_1 con datos normalizados\n",
    "# Obtenemos los resultados exitosamente\n",
    "popt, pcov = curve_fit(sigmoid, train_x, train_y)\n",
    "print('Beta 1: ', popt[0])\n",
    "print('Beta 2: ', popt[1])"
   ]
  },
  {
   "cell_type": "code",
   "execution_count": null,
   "metadata": {},
   "outputs": [],
   "source": [
    "# Predicción utilizando los datos de test, beta_1 y beta_2\n",
    "y_hat = sigmoid(test_x, popt[0], popt[1])"
   ]
  },
  {
   "cell_type": "code",
   "execution_count": null,
   "metadata": {},
   "outputs": [
    {
     "name": "stdout",
     "output_type": "stream",
     "text": [
      "Mean absolute error: 0.03\n",
      "Residual sum of squares (MSE): 0.00\n",
      "R2-score: 0.99\n"
     ]
    }
   ],
   "source": [
    "# Se importa una librería que permite calcular el r2-Score\n",
    "# Se calculan las métricas correspindientes\n",
    "from sklearn.metrics import r2_score\n",
    "print('Mean absolute error: %.2f' % np.mean(np.absolute(y_hat - test_y)))\n",
    "print('Residual sum of squares (MSE): %.2f' % np.mean((y_hat - test_y)) ** 2)\n",
    "print('R2-score: %.2f' % r2_score(y_hat, test_y))\n",
    "\n",
    "\"\"\" Conclusiones\n",
    "El error absoluto medio es muy bajo, lo que indica que no varía casi nada\n",
    "la predicción de los datos de prueba.\n",
    "El error cuadrático medio es de 0, indicando técnicamente que no hay\n",
    "penalización.\n",
    "El coeficiente de determinación es de 0.99, indicando el nivel de precisión\n",
    "del modelo, es casi perfecto. \"\"\""
   ]
  },
  {
   "cell_type": "code",
   "execution_count": null,
   "metadata": {},
   "outputs": [
    {
     "data": {
      "image/png": "[encoded data removed]",
      "text/plain": [
       "<Figure size 640x480 with 1 Axes>"
      ]
     },
     "metadata": {},
     "output_type": "display_data"
    }
   ],
   "source": [
    "# Se realizan los gráficos correspondientes\n",
    "# Se comparan tanto los valores de prueba de Y, así como los de predicción\n",
    "plt.plot(test_x, test_y, 'bo')\n",
    "plt.plot(test_x, y_hat, 'r')\n",
    "plt.xlabel('Periodo')\n",
    "plt.ylabel('GDP')\n",
    "plt.show()"
   ]
  },
  {
   "cell_type": "code",
   "execution_count": null,
   "metadata": {},
   "outputs": [
    {
     "name": "stdout",
     "output_type": "stream",
     "text": [
      "PIB para el año 2022: 1.256339e+12\n"
     ]
    }
   ],
   "source": [
    "# Se utiliza el modelo para predecir el PIB del año 2022\n",
    "# Primero se Normaliza el dato 2022\n",
    "x_normalized_2022 = 2022 / df.Periodo.max()\n",
    "#introducimos el dato normalizado en el modelo\n",
    "predict_2022_gdp_normalized = sigmoid(x_normalized_2022, popt[0], popt[1])\n",
    "# Utilizamos un proceso llamado Desnormalización, operación inversa a Normalización\n",
    "# Se multiplica el dato normalizado por el dato mayor de su columna (Periodo)\n",
    "predict_2022_gdp = predict_2022_gdp_normalized * df.GDP.max()\n",
    "#Imprimimos el resultado en notación científica, como los datos originales\n",
    "print(f'PIB para el año 2022: {predict_2022_gdp:.6e}')"
   ]
  }
 ],
 "metadata": {
  "kernelspec": {
   "display_name": "base",
   "language": "python",
   "name": "python3"
  },
  "language_info": {
   "codemirror_mode": {
    "name": "ipython",
    "version": 3
   },
   "file_extension": ".py",
   "mimetype": "text/x-python",
   "name": "python",
   "nbconvert_exporter": "python",
   "pygments_lexer": "ipython3",
   "version": "3.12.4"
  }
 },
 "nbformat": 4,
 "nbformat_minor": 2
}
